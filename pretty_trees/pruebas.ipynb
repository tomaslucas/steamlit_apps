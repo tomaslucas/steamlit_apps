{
 "cells": [
  {
   "cell_type": "code",
   "execution_count": null,
   "id": "1f9fbc2c-c77b-42ac-99b3-dfee43f7614a",
   "metadata": {},
   "outputs": [],
   "source": [
    "import pandas as pd\n",
    "import polars as pl"
   ]
  },
  {
   "cell_type": "markdown",
   "id": "071c049b-005a-4748-a04a-17cca39a0ad9",
   "metadata": {},
   "source": [
    "# With Pandas"
   ]
  },
  {
   "cell_type": "code",
   "execution_count": null,
   "id": "5066f448-f5b5-48d6-9b6c-8f70f639973a",
   "metadata": {},
   "outputs": [],
   "source": [
    "trees_df = pd.read_csv('trees.csv')"
   ]
  },
  {
   "cell_type": "code",
   "execution_count": null,
   "id": "3421db48-ead9-4aa0-9b23-d6fec2e31e75",
   "metadata": {},
   "outputs": [],
   "source": [
    "df_dbh_grouped = pd.DataFrame(trees_df.groupby(['dbh']).count()['tree_id']).sort_index()\n",
    "df_dbh_grouped"
   ]
  },
  {
   "cell_type": "code",
   "execution_count": null,
   "id": "0d30dc9b-bf46-4140-8443-7cd16f30e642",
   "metadata": {},
   "outputs": [],
   "source": [
    "df_dbh_grouped = pd.DataFrame(trees_df.groupby(['dbh']).count()['tree_id']).sort_index()\n",
    "df_dbh_grouped"
   ]
  },
  {
   "cell_type": "code",
   "execution_count": null,
   "id": "4a5c3322-c06f-44fb-9ded-bc64ba3ddaf2",
   "metadata": {},
   "outputs": [],
   "source": [
    "df_dbh_grouped.columns = ['tree_count']\n",
    "df_dbh_grouped"
   ]
  },
  {
   "cell_type": "code",
   "execution_count": null,
   "id": "eb27e937-78d1-4fba-b530-0f6d76616e9a",
   "metadata": {},
   "outputs": [],
   "source": [
    "trees_df.sample(n=1000, replace=True)"
   ]
  },
  {
   "cell_type": "markdown",
   "id": "672f92e2-4e25-47a9-bdf9-5d5d622ec729",
   "metadata": {},
   "source": [
    "# With Polars"
   ]
  },
  {
   "cell_type": "code",
   "execution_count": null,
   "id": "e5d0dc7f-85a2-481a-a939-df6dfea6e4bd",
   "metadata": {},
   "outputs": [],
   "source": [
    "import polars as pl\n",
    "trees_df = pl.read_csv('trees.csv')"
   ]
  },
  {
   "cell_type": "code",
   "execution_count": null,
   "id": "e7000860-6670-4847-8781-b662be0df0b2",
   "metadata": {},
   "outputs": [],
   "source": [
    "df_dbh_grouped = (trees_df\n",
    "                  .group_by(pl.col('dbh'))\n",
    "                  .agg(tree_count = pl.count())\n",
    "                  .drop_nulls()\n",
    "                  .sort('dbh')\n",
    "                 )"
   ]
  },
  {
   "cell_type": "code",
   "execution_count": null,
   "id": "7e58efd4-6670-43bb-9dfb-2c5f6e1db4e7",
   "metadata": {},
   "outputs": [],
   "source": [
    "df_dbh_grouped = (trees_df\n",
    "                  .group_by(pl.col('dbh'))\n",
    "                  .agg(\n",
    "                      pl.col('dbh').count().alias('tree_count')\n",
    "                  )\n",
    "                  .drop_nulls()\n",
    "                  .sort('dbh')\n",
    "                  .select('tree_count')\n",
    "                 )\n"
   ]
  },
  {
   "cell_type": "code",
   "execution_count": null,
   "id": "c0d39eec-b692-423b-b2ae-896c63a74ded",
   "metadata": {},
   "outputs": [],
   "source": [
    "trees_df.select(\"caretaker\").unique(maintain_order=True).to_series()"
   ]
  },
  {
   "cell_type": "code",
   "execution_count": null,
   "id": "64d3ff72-f4b9-4b06-b1d7-91dbc22ab712",
   "metadata": {},
   "outputs": [],
   "source": [
    "trees_df.drop_nulls(subset=['longitude', 'latitude']).head()"
   ]
  },
  {
   "cell_type": "code",
   "execution_count": null,
   "id": "22231d53-e410-4b5d-9f5a-98dd82d6de67",
   "metadata": {},
   "outputs": [],
   "source": [
    "trees_df.sample(n=1000, with_replacement=True).head()"
   ]
  },
  {
   "cell_type": "code",
   "execution_count": null,
   "id": "fa11dfb8-6af5-492f-80b1-3ddd4847692e",
   "metadata": {},
   "outputs": [],
   "source": [
    "from datetime import datetime\n",
    "datetime.now()"
   ]
  },
  {
   "cell_type": "code",
   "execution_count": null,
   "id": "06f1178d-8922-496a-814d-116cc0b9e68c",
   "metadata": {},
   "outputs": [],
   "source": [
    "trees_df.with_columns(\n",
    "    age = (datetime.utcnow() - pl.col('date').str.to_datetime()).dt.total_days()\n",
    ").head()"
   ]
  },
  {
   "cell_type": "code",
   "execution_count": null,
   "id": "f61966a5-3eed-4419-abe0-c2e0db8d92be",
   "metadata": {},
   "outputs": [],
   "source": [
    "trees_filtered = trees_df.filter(pl.col('legal_status') == 'Private')"
   ]
  },
  {
   "cell_type": "code",
   "execution_count": null,
   "id": "06ec2238-0dff-4d40-b732-6af59b7914a9",
   "metadata": {},
   "outputs": [],
   "source": []
  },
  {
   "cell_type": "code",
   "execution_count": null,
   "id": "c9438aa7-f324-4cf1-b155-eca4db45f1b9",
   "metadata": {},
   "outputs": [],
   "source": []
  }
 ],
 "metadata": {
  "kernelspec": {
   "display_name": "Python 3 (ipykernel)",
   "language": "python",
   "name": "python3"
  },
  "language_info": {
   "codemirror_mode": {
    "name": "ipython",
    "version": 3
   },
   "file_extension": ".py",
   "mimetype": "text/x-python",
   "name": "python",
   "nbconvert_exporter": "python",
   "pygments_lexer": "ipython3",
   "version": "3.9.13"
  }
 },
 "nbformat": 4,
 "nbformat_minor": 5
}
