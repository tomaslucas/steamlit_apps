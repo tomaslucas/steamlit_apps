{
 "cells": [
  {
   "cell_type": "code",
   "execution_count": null,
   "id": "1f9fbc2c-c77b-42ac-99b3-dfee43f7614a",
   "metadata": {},
   "outputs": [],
   "source": [
    "import pandas as pd\n",
    "import polars as pl"
   ]
  },
  {
   "cell_type": "markdown",
   "id": "071c049b-005a-4748-a04a-17cca39a0ad9",
   "metadata": {},
   "source": [
    "# With Pandas"
   ]
  },
  {
   "cell_type": "code",
   "execution_count": null,
   "id": "5066f448-f5b5-48d6-9b6c-8f70f639973a",
   "metadata": {},
   "outputs": [],
   "source": [
    "trees_df = pd.read_csv('trees.csv')"
   ]
  },
  {
   "cell_type": "code",
   "execution_count": null,
   "id": "3421db48-ead9-4aa0-9b23-d6fec2e31e75",
   "metadata": {},
   "outputs": [],
   "source": [
    "df_dbh_grouped = pd.DataFrame(trees_df.groupby(['dbh']).count()['tree_id']).sort_index()\n",
    "df_dbh_grouped"
   ]
  },
  {
   "cell_type": "code",
   "execution_count": null,
   "id": "0d30dc9b-bf46-4140-8443-7cd16f30e642",
   "metadata": {},
   "outputs": [],
   "source": [
    "df_dbh_grouped = pd.DataFrame(trees_df.groupby(['dbh']).count()['tree_id']).sort_index()\n",
    "df_dbh_grouped"
   ]
  },
  {
   "cell_type": "code",
   "execution_count": null,
   "id": "4a5c3322-c06f-44fb-9ded-bc64ba3ddaf2",
   "metadata": {},
   "outputs": [],
   "source": [
    "df_dbh_grouped.columns = ['tree_count']\n",
    "df_dbh_grouped"
   ]
  },
  {
   "cell_type": "markdown",
   "id": "672f92e2-4e25-47a9-bdf9-5d5d622ec729",
   "metadata": {},
   "source": [
    "# With Polars"
   ]
  },
  {
   "cell_type": "code",
   "execution_count": null,
   "id": "e5d0dc7f-85a2-481a-a939-df6dfea6e4bd",
   "metadata": {},
   "outputs": [],
   "source": [
    "trees_df = pl.read_csv('trees.csv')"
   ]
  },
  {
   "cell_type": "code",
   "execution_count": null,
   "id": "e7000860-6670-4847-8781-b662be0df0b2",
   "metadata": {},
   "outputs": [],
   "source": [
    "df_dbh_grouped = (trees_df\n",
    "                  .group_by(pl.col('dbh'))\n",
    "                  .agg(tree_count = pl.count())\n",
    "                  .drop_nulls()\n",
    "                  .sort('dbh')\n",
    "                 )\n",
    "df_dbh_grouped"
   ]
  },
  {
   "cell_type": "code",
   "execution_count": null,
   "id": "7e58efd4-6670-43bb-9dfb-2c5f6e1db4e7",
   "metadata": {},
   "outputs": [],
   "source": [
    "df_dbh_grouped = (trees_df\n",
    "                  .group_by(pl.col('dbh'))\n",
    "                  .agg(\n",
    "                      pl.col('dbh').count().alias('tree_count')\n",
    "                  )\n",
    "                  .drop_nulls()\n",
    "                  .sort('dbh')\n",
    "                  .select('tree_count')\n",
    "                 )\n",
    "df_dbh_grouped"
   ]
  },
  {
   "cell_type": "code",
   "execution_count": null,
   "id": "c0d39eec-b692-423b-b2ae-896c63a74ded",
   "metadata": {},
   "outputs": [],
   "source": []
  }
 ],
 "metadata": {
  "kernelspec": {
   "display_name": "Python 3 (ipykernel)",
   "language": "python",
   "name": "python3"
  },
  "language_info": {
   "codemirror_mode": {
    "name": "ipython",
    "version": 3
   },
   "file_extension": ".py",
   "mimetype": "text/x-python",
   "name": "python",
   "nbconvert_exporter": "python",
   "pygments_lexer": "ipython3",
   "version": "3.9.13"
  }
 },
 "nbformat": 4,
 "nbformat_minor": 5
}
