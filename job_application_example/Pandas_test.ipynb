{
 "cells": [
  {
   "cell_type": "code",
   "execution_count": null,
   "id": "1e80ac3b-44a6-4d61-beef-c0b5923d128c",
   "metadata": {},
   "outputs": [],
   "source": [
    "import pandas as pd\n",
    "import numpy as np\n",
    "from math import atan2, cos, radians, sin, sqrt"
   ]
  },
  {
   "cell_type": "code",
   "execution_count": null,
   "id": "a2342aeb-be16-4127-888f-f89de71e508e",
   "metadata": {},
   "outputs": [],
   "source": [
    "airport_distance_df = pd.read_csv(\"airport_location.csv\")"
   ]
  },
  {
   "cell_type": "code",
   "execution_count": null,
   "id": "58e2306a-7d82-4266-83be-ea0319184f6e",
   "metadata": {},
   "outputs": [],
   "source": [
    "airport_distance_df.head()"
   ]
  },
  {
   "cell_type": "code",
   "execution_count": null,
   "id": "a33d39cd-afc7-49c4-a3e5-68db8fada5c2",
   "metadata": {},
   "outputs": [],
   "source": [
    "def haversine_distance(long1, lat1,\n",
    "                       long2, lat2,\n",
    "                       degrees=False):\n",
    "    # degrees vs radians\n",
    "    if degrees == True:\n",
    "        long1 = radians(long1)\n",
    "        lat1 = radians(lat1)\n",
    "        long2 = radians(long2)\n",
    "        lat2 = radians(lat2)\n",
    "\n",
    "    # implementing haversine\n",
    "    a = (\n",
    "        sin((lat2 - lat1) / 2) ** 2\n",
    "        + cos(lat1) * cos(lat2) * sin((long2 - long1) / 2) ** 2\n",
    "    )\n",
    "    c = 2 * atan2(sqrt(a), sqrt(1 - a))\n",
    "    distance = 6371 * c  # radius of earth in kilometers\n",
    "    return distance"
   ]
  },
  {
   "cell_type": "code",
   "execution_count": null,
   "id": "2a0b1e0a-d26b-40e6-8a25-717efe597a7d",
   "metadata": {},
   "outputs": [],
   "source": [
    "def haversine_distance(long1, lat1,\n",
    "                       long2, lat2,\n",
    "                       degrees=False):\n",
    "    # degrees vs radians\n",
    "    if degrees == True:\n",
    "        long1 = np.radians(long1)\n",
    "        lat1 = np.radians(lat1)\n",
    "        long2 = np.radians(long2)\n",
    "        lat2 = np.radians(lat2)\n",
    "\n",
    "    # implementing haversine\n",
    "    a = (\n",
    "        np.sin((lat2 - lat1) / 2) ** 2\n",
    "        + np.cos(lat1) * np.cos(lat2) * np.sin((long2 - long1) / 2) ** 2\n",
    "    )\n",
    "    c = 2 * np.arctan2(np.sqrt(a), np.sqrt(1 - a))\n",
    "    distance = 6371 * c  # radius of earth in kilometers\n",
    "    return distance"
   ]
  },
  {
   "cell_type": "code",
   "execution_count": null,
   "id": "5b42a73b-a15b-4e6e-859c-bbb1d729f72d",
   "metadata": {},
   "outputs": [],
   "source": [
    " def get_distance_list(airport_dataframe, airport_code):\n",
    "        df = (\n",
    "            airport_dataframe.copy()\n",
    "        )  # creates a copy of our dataframe for our function to use\n",
    "        row = df[\n",
    "            df.loc[:, \"Airport Code\"] == airport_code\n",
    "        ]  # selects the row from our airport code input\n",
    "        lat = row[\"Lat\"]  # get latitude\n",
    "        long = row[\"Long\"]  # get longitude\n",
    "\n",
    "        df = df[\n",
    "            df[\"Airport Code\"] != airport_code\n",
    "        ]  # filter out our airport, implement haversine distance\n",
    "        df[\"Distance\"] = df.apply(\n",
    "            lambda x: haversine_distance(\n",
    "                lat1=lat, long1=long, lat2=x.Lat, long2=x.Long, degrees=True\n",
    "            ),\n",
    "            axis=1,\n",
    "        )\n",
    "        df_to_return = df.sort_values(by=\"Distance\").reset_index()\n",
    "        return df_to_return # return values sorted\n"
   ]
  },
  {
   "cell_type": "code",
   "execution_count": null,
   "id": "63d5a458-a0e9-4a7e-89cc-e8de86a79b83",
   "metadata": {},
   "outputs": [],
   "source": [
    "distance_airports = get_distance_list(\n",
    "    airport_dataframe=airport_distance_df, airport_code='CDG'\n",
    ")\n",
    "\n",
    "print(list(distance_airports['Airport Code']))\n",
    "distance_airports"
   ]
  },
  {
   "cell_type": "code",
   "execution_count": null,
   "id": "628968fe-fa97-472c-a093-7674eae8020a",
   "metadata": {},
   "outputs": [],
   "source": []
  }
 ],
 "metadata": {
  "kernelspec": {
   "display_name": "Python 3 (ipykernel)",
   "language": "python",
   "name": "python3"
  },
  "language_info": {
   "codemirror_mode": {
    "name": "ipython",
    "version": 3
   },
   "file_extension": ".py",
   "mimetype": "text/x-python",
   "name": "python",
   "nbconvert_exporter": "python",
   "pygments_lexer": "ipython3",
   "version": "3.9.13"
  }
 },
 "nbformat": 4,
 "nbformat_minor": 5
}
