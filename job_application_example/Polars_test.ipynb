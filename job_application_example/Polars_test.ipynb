{
 "cells": [
  {
   "cell_type": "code",
   "execution_count": null,
   "id": "1e80ac3b-44a6-4d61-beef-c0b5923d128c",
   "metadata": {},
   "outputs": [],
   "source": [
    "import pandas as pd\n",
    "import polars as pl\n",
    "import numpy as np"
   ]
  },
  {
   "cell_type": "code",
   "execution_count": null,
   "id": "544188e3-b134-45b2-9371-d2341a969538",
   "metadata": {},
   "outputs": [],
   "source": [
    "airport_distance_df = pl.read_csv(\"airport_location.csv\")"
   ]
  },
  {
   "cell_type": "code",
   "execution_count": null,
   "id": "58e2306a-7d82-4266-83be-ea0319184f6e",
   "metadata": {},
   "outputs": [],
   "source": [
    "airport_distance_df.head()"
   ]
  },
  {
   "cell_type": "code",
   "execution_count": null,
   "id": "a33d39cd-afc7-49c4-a3e5-68db8fada5c2",
   "metadata": {},
   "outputs": [],
   "source": [
    "def haversine_distance(long1, lat1,\n",
    "                       long2, lat2,\n",
    "                       degrees=False):\n",
    "    # degrees vs radians\n",
    "    if degrees == True:\n",
    "        long1 = np.radians(long1)\n",
    "        lat1 = np.radians(lat1)\n",
    "        long2 = np.radians(long2)\n",
    "        lat2 = np.radians(lat2)\n",
    "\n",
    "    # implementing haversine\n",
    "    a = (\n",
    "        np.sin((lat2 - lat1) / 2) ** 2\n",
    "        + np.cos(lat1) * np.cos(lat2) * np.sin((long2 - long1) / 2) ** 2\n",
    "    )\n",
    "    c = 2 * np.arctan2(np.sqrt(a), np.sqrt(1 - a))\n",
    "    distance = 6371 * c  # radius of earth in kilometers\n",
    "    return distance"
   ]
  },
  {
   "cell_type": "code",
   "execution_count": null,
   "id": "8a5b09a7-c2c3-407d-bb36-710144d03275",
   "metadata": {},
   "outputs": [],
   "source": [
    " def get_distance_list(airport_dataframe, airport_code):\n",
    "        row = airport_dataframe.filter(pl.col('Airport Code') == airport_code)\n",
    "        # selects the row from our airport code input\n",
    "        lat = row.select(\"Lat\").item()  # get latitude\n",
    "        long = row.select(\"Long\").item()  # get longitude\n",
    "        df = airport_dataframe.filter(pl.col('Airport Code') != airport_code)\n",
    "        # filter out our airport, implement haversine distance\n",
    "        df = df.with_columns(\n",
    "            Distance = pl.struct(['Lat', 'Long']).map_batches(\n",
    "                lambda x: haversine_distance(\n",
    "                    lat1=lat, long1=long, lat2=x.struct.field(\"Lat\"), long2=x.struct.field(\"Long\"), degrees=True\n",
    "                    )\n",
    "            )\n",
    "        )\n",
    "        df_to_return = df.sort(by=\"Distance\")\n",
    "        return df_to_return # return values sorted\n"
   ]
  },
  {
   "cell_type": "code",
   "execution_count": null,
   "id": "b8d2135a-53e0-459f-bb45-efad8fe40595",
   "metadata": {},
   "outputs": [],
   "source": [
    "distance_airports = get_distance_list(\n",
    "    airport_dataframe=airport_distance_df, airport_code='CDG'\n",
    ")\n",
    "\n",
    "print(list(distance_airports['Airport Code']))\n",
    "distance_airports"
   ]
  }
 ],
 "metadata": {
  "kernelspec": {
   "display_name": "Python 3 (ipykernel)",
   "language": "python",
   "name": "python3"
  },
  "language_info": {
   "codemirror_mode": {
    "name": "ipython",
    "version": 3
   },
   "file_extension": ".py",
   "mimetype": "text/x-python",
   "name": "python",
   "nbconvert_exporter": "python",
   "pygments_lexer": "ipython3",
   "version": "3.9.13"
  }
 },
 "nbformat": 4,
 "nbformat_minor": 5
}
