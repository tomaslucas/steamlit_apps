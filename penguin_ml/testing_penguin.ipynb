{
 "cells": [
  {
   "cell_type": "code",
   "execution_count": null,
   "id": "59e9f95c-5e39-44a2-a731-3091bc31b206",
   "metadata": {},
   "outputs": [],
   "source": [
    "import pandas as pd\n",
    "from sklearn.metrics import accuracy_score\n",
    "from sklearn.ensemble import RandomForestClassifier\n",
    "from sklearn.model_selection import train_test_split\n",
    "import pickle\n",
    "\n",
    "penguin_df = pd.read_csv('penguins.csv')\n",
    "penguin_df.dropna(inplace=True)\n",
    "output = penguin_df['species']\n",
    "features = penguin_df[['island', 'bill_length_mm', 'bill_depth_mm',\n",
    "      'flipper_length_mm', 'body_mass_g', 'sex']]\n",
    "features = pd.get_dummies(features, dtype=int)\n",
    "\n",
    "output, uniques = pd.factorize(output, sort=True)\n",
    "x_train, x_test, y_train, y_test = train_test_split(features, output, test_size=.8, random_state=15)\n",
    "\n",
    "rfc = RandomForestClassifier(random_state=15)\n",
    "rfc.fit(x_train.values, y_train)\n",
    "y_pred = rfc.predict(x_test.values)\n",
    "score = accuracy_score(y_pred, y_test)\n",
    "print(f'Our accuracy score for this model is {score}')\n",
    "# Verificar predicciones adicionales\n",
    "# Verificar predicciones adicionales\n",
    "print(f'Return {rfc.predict([[50,10,5,5,1,0,0,1,0]])} : {uniques[rfc.predict([[50,10,5,5,1,0,0,1,0]])]}')\n",
    "print(f'Return {rfc.predict([[10,30,15,5,0,0,0,0,1]])} : {uniques[rfc.predict([[10,30,15,5,0,0,0,0,1]])]}')\n",
    "print(f'Return {rfc.predict([[46,13,211,5500,0,0,1,0,1]])} : {uniques[rfc.predict([[46,13,211,5500,0,0,1,0,1]])]}')\n",
    "print(f'Return {rfc.predict([[0,0,0,0,1,0,0,1,0]])} : {uniques[rfc.predict([[0,0,0,0,1,0,0,1,0]])]}')\n",
    "print(list(uniques))"
   ]
  },
  {
   "cell_type": "code",
   "execution_count": null,
   "id": "c20e9fe1-9838-4660-8cc5-dd0528ce000c",
   "metadata": {},
   "outputs": [],
   "source": [
    "import polars as pl\n",
    "import polars.selectors as cs\n",
    "from sklearn.metrics import accuracy_score\n",
    "from sklearn.ensemble import RandomForestClassifier\n",
    "from sklearn.model_selection import train_test_split\n",
    "import pickle\n",
    "\n",
    "penguin_df = pl.read_csv('penguins.csv').drop_nulls()\n",
    "\n",
    "expr = (\n",
    "    penguin_df\n",
    "    .select(pl.col('species'))\n",
    "    .with_columns(rank = pl.col('species').rank('dense')-1)\n",
    ")\n",
    "\n",
    "uniques = expr.unique().sort('rank').select('species').to_numpy()\n",
    "output = expr.select('rank').to_series().to_numpy()\n",
    "\n",
    "features = (penguin_df\n",
    "            .select(pl.all().exclude(['species', 'year']))\n",
    "            .to_dummies(cs.string())\n",
    "            .select(\n",
    "                ['bill_length_mm', 'bill_depth_mm', 'flipper_length_mm', 'body_mass_g',\n",
    "                 'island_Biscoe', 'island_Dream', 'island_Torgersen', 'sex_female',\n",
    "                 'sex_male']\n",
    "            )\n",
    "           )\n",
    "\n",
    "x_train, x_test, y_train, y_test = train_test_split(\n",
    "    features.to_numpy(), output, test_size=.8, random_state=15)\n",
    "rfc = RandomForestClassifier(random_state=15)\n",
    "rfc.fit(x_train, y_train)\n",
    "y_pred = rfc.predict(x_test)\n",
    "score = accuracy_score(y_pred, y_test)\n",
    "print(f'Our accuracy score for this model is {score}')\n",
    "\n",
    "# Verificar predicciones adicionales\n",
    "print(f'UNIQUES: {uniques.tolist()}')\n",
    "\n",
    "a = rfc.predict([[50,10,5,5,1,0,0,1,0]])\n",
    "b = rfc.predict([[46,13,211,4500,1,0,0,1,0]])\n",
    "c = rfc.predict([[47,18,192,3500,1,0,0,0,1]])\n",
    "\n",
    "print(f'Return {a} : {uniques[a]}')\n",
    "print(f'Return {b} : {uniques[b]}')\n",
    "print(f'Return {c} : {uniques[c]}')\n",
    "\n",
    "# rf_pickle = open('random_forest_penguin.pickle', 'wb')\n",
    "# pickle.dump(rfc, rf_pickle)\n",
    "# rf_pickle.close()\n",
    "\n",
    "# output_pickle = open('output_penguin.pickle', 'wb')\n",
    "# pickle.dump(uniques, output_pickle)\n",
    "# output_pickle.close()"
   ]
  },
  {
   "cell_type": "code",
   "execution_count": null,
   "id": "43be71ff-aacf-4484-b391-58c99d359f06",
   "metadata": {},
   "outputs": [],
   "source": [
    "expr.unique().sort('rank').select('species')"
   ]
  },
  {
   "cell_type": "code",
   "execution_count": null,
   "id": "868d51d3-c56c-4bfb-b1d2-c8c75f474e9a",
   "metadata": {},
   "outputs": [],
   "source": [
    "expr.sort('rank').select('species').unique()"
   ]
  },
  {
   "cell_type": "code",
   "execution_count": null,
   "id": "b50f9bb8-475a-4700-9b85-f9a021f93321",
   "metadata": {},
   "outputs": [],
   "source": [
    "(\n",
    "    penguin_df\n",
    "    .select(pl.col('species'))\n",
    "    .with_columns(rank = pl.col('species').rank('dense')-1)\n",
    "    .unique()\n",
    "    .sort('rank')\n",
    "    \n",
    ")"
   ]
  },
  {
   "cell_type": "code",
   "execution_count": null,
   "id": "0a35333b-782f-4b82-9838-1086cc32d446",
   "metadata": {},
   "outputs": [],
   "source": [
    "print(type(x_train))\n",
    "print(type(output))\n",
    "print(type(uniques))\n",
    "print(type(y_pred))\n",
    "print(type(y_train))"
   ]
  },
  {
   "cell_type": "markdown",
   "id": "edbc8337-6767-4c65-8373-41d119f5d1e7",
   "metadata": {},
   "source": [
    "# Pandas"
   ]
  },
  {
   "cell_type": "code",
   "execution_count": null,
   "id": "04dc67d2-b84f-4d66-a177-c62ee05f8dfb",
   "metadata": {},
   "outputs": [],
   "source": [
    "print(type(x_train))\n",
    "print(type(output))\n",
    "print(type(uniques))\n",
    "print(type(y_pred))\n",
    "print(type(y_train))"
   ]
  },
  {
   "cell_type": "code",
   "execution_count": null,
   "id": "476a18af-59d4-4bda-b616-198add94f282",
   "metadata": {},
   "outputs": [],
   "source": [
    "x_test.values"
   ]
  },
  {
   "cell_type": "code",
   "execution_count": null,
   "id": "8b82b3c5-f0c0-4276-9f8c-63773de30226",
   "metadata": {},
   "outputs": [],
   "source": [
    "y_train"
   ]
  },
  {
   "cell_type": "code",
   "execution_count": null,
   "id": "077f7e06-4afa-4862-b97a-514f91c8491b",
   "metadata": {},
   "outputs": [],
   "source": [
    "penguin_df.head()"
   ]
  },
  {
   "cell_type": "code",
   "execution_count": null,
   "id": "fb1fe304-2b74-469c-80b7-34fdf81e7d29",
   "metadata": {},
   "outputs": [],
   "source": [
    "for i in penguin_df.select('species').unique().to_series().to_list():\n",
    "    print(penguin_df.filter(pl.col('species') == i).limit(1))"
   ]
  },
  {
   "cell_type": "code",
   "execution_count": null,
   "id": "fe97e4c5-0a86-43a5-bf18-40f6ccba0400",
   "metadata": {},
   "outputs": [],
   "source": [
    "a = rfc.predict([[50,10,5,5,1,0,0,1,0]])\n",
    "b = rfc.predict([[46,13,211,4500,1,0,0,1,0]])\n",
    "c = rfc.predict([[47,18,192,3500,1,0,0,0,1]])\n",
    "\n",
    "print(f'Return {a} : {uniques[a]}')\n",
    "print(f'Return {b} : {uniques[b]}')\n",
    "print(f'Return {c} : {uniques[c]}')\n"
   ]
  },
  {
   "cell_type": "code",
   "execution_count": null,
   "id": "6f9bb017-6bcd-47ed-89f0-937a99377e97",
   "metadata": {},
   "outputs": [],
   "source": [
    "print(f'Return {a} : {uniques[a]}')"
   ]
  }
 ],
 "metadata": {
  "kernelspec": {
   "display_name": "Python 3 (ipykernel)",
   "language": "python",
   "name": "python3"
  },
  "language_info": {
   "codemirror_mode": {
    "name": "ipython",
    "version": 3
   },
   "file_extension": ".py",
   "mimetype": "text/x-python",
   "name": "python",
   "nbconvert_exporter": "python",
   "pygments_lexer": "ipython3",
   "version": "3.9.13"
  }
 },
 "nbformat": 4,
 "nbformat_minor": 5
}
